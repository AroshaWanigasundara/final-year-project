{
 "cells": [
  {
   "cell_type": "code",
   "execution_count": 56,
   "id": "fbcd2c97",
   "metadata": {},
   "outputs": [
    {
     "ename": "ModuleNotFoundError",
     "evalue": "No module named 'tensorflow'",
     "output_type": "error",
     "traceback": [
      "\u001b[1;31m---------------------------------------------------------------------------\u001b[0m",
      "\u001b[1;31mModuleNotFoundError\u001b[0m                       Traceback (most recent call last)",
      "Cell \u001b[1;32mIn[56], line 10\u001b[0m\n\u001b[0;32m      8\u001b[0m \u001b[38;5;28;01mfrom\u001b[39;00m \u001b[38;5;21;01msklearn\u001b[39;00m\u001b[38;5;21;01m.\u001b[39;00m\u001b[38;5;21;01mutils\u001b[39;00m \u001b[38;5;28;01mimport\u001b[39;00m shuffle\n\u001b[0;32m      9\u001b[0m \u001b[38;5;28;01mfrom\u001b[39;00m \u001b[38;5;21;01msklearn\u001b[39;00m\u001b[38;5;21;01m.\u001b[39;00m\u001b[38;5;21;01mmetrics\u001b[39;00m \u001b[38;5;28;01mimport\u001b[39;00m accuracy_score\n\u001b[1;32m---> 10\u001b[0m \u001b[38;5;28;01mimport\u001b[39;00m \u001b[38;5;21;01mtensorflow\u001b[39;00m \u001b[38;5;28;01mas\u001b[39;00m \u001b[38;5;21;01mtf\u001b[39;00m\n",
      "\u001b[1;31mModuleNotFoundError\u001b[0m: No module named 'tensorflow'"
     ]
    }
   ],
   "source": [
    "import numpy as np\n",
    "import random\n",
    "import cv2\n",
    "import os\n",
    "from imutils import paths\n",
    "from sklearn.model_selection import train_test_split\n",
    "from sklearn.preprocessing import LabelBinarizer\n",
    "from sklearn.utils import shuffle\n",
    "from sklearn.metrics import accuracy_score\n",
    "import tensorflow as tf\n"
   ]
  },
  {
   "cell_type": "code",
   "execution_count": 39,
   "id": "3465f475",
   "metadata": {},
   "outputs": [],
   "source": [
    "def load(paths, verbose=0):\n",
    "  data = list()\n",
    "  labels = list()\n",
    "\n",
    "  for (i, imgpath)in enumerate(paths):\n",
    "    im_gray = cv2.imread(imgpath, cv2.IMREAD_GRAYSCALE)\n",
    "    image = np.array(im_gray).flatten()\n",
    "    \n",
    "    #label of the image is extracted from the image path (selecting the second to last element of the resulting list, which is assumed to be the label of the image)\n",
    "    label = imgpath.split(os.path.sep)[-2]\n",
    "    data.append(image/255)\n",
    "    labels.append(label)\n",
    "\n",
    "    if verbose >0 and i>0 and (i+1) %verbose ==0 :\n",
    "      print(\"[INFO] processed {}/{}\".format(i+1,len(paths)))\n",
    "  return data,labels"
   ]
  },
  {
   "cell_type": "code",
   "execution_count": 48,
   "id": "3c37f0bb",
   "metadata": {},
   "outputs": [
    {
     "name": "stdout",
     "output_type": "stream",
     "text": [
      "[INFO] processed 10000/42000\n",
      "[INFO] processed 20000/42000\n",
      "[INFO] processed 30000/42000\n",
      "[INFO] processed 40000/42000\n"
     ]
    }
   ],
   "source": [
    "img_path ='./archive/trainingSet'\n",
    "from imutils import paths\n",
    "image_paths = list(paths.list_images(img_path))\n",
    "image_list, label_list = load(image_paths,verbose=10000)\n",
    "\n",
    "lb = LabelBinarizer()\n",
    "label_list = lb.fit_transform(label_list)\n",
    "\n",
    "#split data fro trainig and testing\n",
    "X_train, X_test, y_train, y_test = train_test_split(image_list, label_list, test_size=0.1, random_state=42)"
   ]
  },
  {
   "cell_type": "code",
   "execution_count": 49,
   "id": "69ced4f0",
   "metadata": {},
   "outputs": [],
   "source": [
    "def create_clients(image_list, label_list, num_clients=100,initial='clients'):\n",
    "\n",
    "  #create a list of client names\n",
    "  client_names =['{}_{}'.format(initial, i+1) for i in range(num_clients)]\n",
    "\n",
    "  #randomize data\n",
    "  data = list(zip(image_list, label_list))\n",
    "  random.shuffle(data)\n",
    "  \n",
    "  #sharing data with particular each client\n",
    "  size = len(data)//num_clients\n",
    "  shards = [data[i:i + size] for i in range(0, size*num_clients, size)]\n",
    "\n",
    "  #code asserts that the number of clients is equal to the number of shards, \n",
    "  assert(len(shards) == len(client_names))\n",
    " \n",
    "  #returns  [key]= client name and [value] = corresponding shard of data for that client.\n",
    "  return {client_names[i] : shards[i] for i in range(len(client_names))}"
   ]
  },
  {
   "cell_type": "code",
   "execution_count": 50,
   "id": "8fc2f57c",
   "metadata": {},
   "outputs": [],
   "source": [
    "client = create_clients(X_train, y_train, num_clients=100, initial='clients')"
   ]
  },
  {
   "cell_type": "code",
   "execution_count": 51,
   "id": "83b0642e",
   "metadata": {},
   "outputs": [],
   "source": [
    "def batch_data(data_shard, batch_size =32):\n",
    "   \n",
    "    #seperate shard into data and labels lists\n",
    "    data, label = zip(*data_shard)\n",
    "    dataset = tf.data.Dataset.from_tensor_slices((list(data), list(label)))\n",
    "    return dataset.shuffle(len(label)).batch(batch_size)"
   ]
  },
  {
   "cell_type": "code",
   "execution_count": 55,
   "id": "7e2c88d4",
   "metadata": {},
   "outputs": [
    {
     "ename": "NameError",
     "evalue": "name 'tf' is not defined",
     "output_type": "error",
     "traceback": [
      "\u001b[1;31m---------------------------------------------------------------------------\u001b[0m",
      "\u001b[1;31mNameError\u001b[0m                                 Traceback (most recent call last)",
      "Cell \u001b[1;32mIn[55], line 5\u001b[0m\n\u001b[0;32m      2\u001b[0m clients_batched \u001b[38;5;241m=\u001b[39m \u001b[38;5;28mdict\u001b[39m()\n\u001b[0;32m      4\u001b[0m \u001b[38;5;28;01mfor\u001b[39;00m(client_names, data) \u001b[38;5;129;01min\u001b[39;00m client\u001b[38;5;241m.\u001b[39mitems():\n\u001b[1;32m----> 5\u001b[0m       clients_batched[client_names] \u001b[38;5;241m=\u001b[39m \u001b[43mbatch_data\u001b[49m\u001b[43m(\u001b[49m\u001b[43mdata\u001b[49m\u001b[43m)\u001b[49m\n\u001b[0;32m      7\u001b[0m \u001b[38;5;66;03m#batch the test data\u001b[39;00m\n\u001b[0;32m      8\u001b[0m test_batched \u001b[38;5;241m=\u001b[39m tf\u001b[38;5;241m.\u001b[39mdata\u001b[38;5;241m.\u001b[39mDataset\u001b[38;5;241m.\u001b[39mfrom_tensor_slices((X_test, y_test))\u001b[38;5;241m.\u001b[39mbatch(\u001b[38;5;28mlen\u001b[39m(y_test))\n",
      "Cell \u001b[1;32mIn[51], line 5\u001b[0m, in \u001b[0;36mbatch_data\u001b[1;34m(data_shard, batch_size)\u001b[0m\n\u001b[0;32m      1\u001b[0m \u001b[38;5;28;01mdef\u001b[39;00m \u001b[38;5;21mbatch_data\u001b[39m(data_shard, batch_size \u001b[38;5;241m=\u001b[39m\u001b[38;5;241m32\u001b[39m):\n\u001b[0;32m      2\u001b[0m    \n\u001b[0;32m      3\u001b[0m     \u001b[38;5;66;03m#seperate shard into data and labels lists\u001b[39;00m\n\u001b[0;32m      4\u001b[0m     data, label \u001b[38;5;241m=\u001b[39m \u001b[38;5;28mzip\u001b[39m(\u001b[38;5;241m*\u001b[39mdata_shard)\n\u001b[1;32m----> 5\u001b[0m     dataset \u001b[38;5;241m=\u001b[39m \u001b[43mtf\u001b[49m\u001b[38;5;241m.\u001b[39mdata\u001b[38;5;241m.\u001b[39mDataset\u001b[38;5;241m.\u001b[39mfrom_tensor_slices((\u001b[38;5;28mlist\u001b[39m(data), \u001b[38;5;28mlist\u001b[39m(label)))\n\u001b[0;32m      6\u001b[0m     \u001b[38;5;28;01mreturn\u001b[39;00m dataset\u001b[38;5;241m.\u001b[39mshuffle(\u001b[38;5;28mlen\u001b[39m(label))\u001b[38;5;241m.\u001b[39mbatch(batch_size)\n",
      "\u001b[1;31mNameError\u001b[0m: name 'tf' is not defined"
     ]
    }
   ],
   "source": [
    "#batch the training data for each clients\n",
    "clients_batched = dict()\n",
    "\n",
    "for(client_names, data) in client.items():\n",
    "      clients_batched[client_names] = batch_data(data)\n",
    "\n",
    "#batch the test data\n",
    "test_batched = tf.data.Dataset.from_tensor_slices((X_test, y_test)).batch(len(y_test))"
   ]
  },
  {
   "cell_type": "code",
   "execution_count": null,
   "id": "e21ff83e",
   "metadata": {},
   "outputs": [],
   "source": []
  }
 ],
 "metadata": {
  "kernelspec": {
   "display_name": "Python 3 (ipykernel)",
   "language": "python",
   "name": "python3"
  },
  "language_info": {
   "codemirror_mode": {
    "name": "ipython",
    "version": 3
   },
   "file_extension": ".py",
   "mimetype": "text/x-python",
   "name": "python",
   "nbconvert_exporter": "python",
   "pygments_lexer": "ipython3",
   "version": "3.11.2"
  }
 },
 "nbformat": 4,
 "nbformat_minor": 5
}
